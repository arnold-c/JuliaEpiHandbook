{
 "cells": [
  {
   "cell_type": "code",
   "execution_count": 1,
   "id": "422ffc25",
   "metadata": {},
   "outputs": [],
   "source": [
    "import IJulia\n",
    "\n",
    "# The julia kernel has built in support for Revise.jl, so this is the \n",
    "# recommended approach for long-running sessions:\n",
    "# https://github.com/JuliaLang/IJulia.jl/blob/9b10fa9b879574bbf720f5285029e07758e50a5e/src/kernel.jl#L46-L51\n",
    "\n",
    "# Users should enable revise within .julia/config/startup_ijulia.jl:\n",
    "# https://timholy.github.io/Revise.jl/stable/config/#Using-Revise-automatically-within-Jupyter/IJulia-1\n",
    "\n",
    "# clear console history\n",
    "IJulia.clear_history()\n",
    "\n",
    "fig_width = 7\n",
    "fig_height = 5\n",
    "fig_format = :retina\n",
    "fig_dpi = 96\n",
    "\n",
    "# no retina format type, use svg for high quality type/marks\n",
    "if fig_format == :retina\n",
    "  fig_format = :svg\n",
    "elseif fig_format == :pdf\n",
    "  fig_dpi = 96\n",
    "  # Enable PDF support for IJulia\n",
    "  IJulia.register_mime(MIME(\"application/pdf\"))\n",
    "end\n",
    "\n",
    "# convert inches to pixels\n",
    "fig_width = fig_width * fig_dpi\n",
    "fig_height = fig_height * fig_dpi\n",
    "\n",
    "# Intialize Plots w/ default fig width/height\n",
    "try\n",
    "  import Plots\n",
    "\n",
    "  # Plots.jl doesn't support PDF output for versions < 1.28.1\n",
    "  # so use png (if the DPI remains the default of 300 then set to 96)\n",
    "  if (Plots._current_plots_version < v\"1.28.1\") & (fig_format == :pdf)\n",
    "    Plots.gr(size=(fig_width, fig_height), fmt = :png, dpi = fig_dpi)\n",
    "  else\n",
    "    Plots.gr(size=(fig_width, fig_height), fmt = fig_format, dpi = fig_dpi)\n",
    "  end\n",
    "catch e\n",
    "  # @warn \"Plots init\" exception=(e, catch_backtrace())\n",
    "end\n",
    "\n",
    "# Initialize CairoMakie with default fig width/height\n",
    "try\n",
    "  import CairoMakie\n",
    "  \n",
    "  CairoMakie.activate!(type = string(fig_format))\n",
    "  CairoMakie.update_theme!(resolution=(fig_width, fig_height))\n",
    "catch e\n",
    "    # @warn \"CairoMakie init\" exception=(e, catch_backtrace())\n",
    "end\n",
    "  \n",
    "# Set run_path if specified\n",
    "try\n",
    "  run_path = raw\"/Users/cfa5228/Documents/Repos/JuliaEpiHandbook\"\n",
    "  if !isempty(run_path)\n",
    "    cd(run_path)\n",
    "  end\n",
    "catch e\n",
    "  @warn \"Run path init:\" exception=(e, catch_backtrace())\n",
    "end\n",
    "\n",
    "\n",
    "# emulate old Pkg.installed beahvior, see\n",
    "# https://discourse.julialang.org/t/how-to-use-pkg-dependencies-instead-of-pkg-installed/36416/9\n",
    "import Pkg\n",
    "function isinstalled(pkg::String)\n",
    "  any(x -> x.name == pkg && x.is_direct_dep, values(Pkg.dependencies()))\n",
    "end\n",
    "\n",
    "# ojs_define\n",
    "if isinstalled(\"JSON\") && isinstalled(\"DataFrames\")\n",
    "  import JSON, DataFrames\n",
    "  global function ojs_define(; kwargs...)\n",
    "    convert(x) = x\n",
    "    convert(x::DataFrames.AbstractDataFrame) = Tables.rows(x)\n",
    "    content = Dict(\"contents\" => [Dict(\"name\" => k, \"value\" => convert(v)) for (k, v) in kwargs])\n",
    "    tag = \"<script type='ojs-define'>$(JSON.json(content))</script>\"\n",
    "    IJulia.display(MIME(\"text/html\"), tag)\n",
    "  end\n",
    "elseif isinstalled(\"JSON\")\n",
    "  import JSON\n",
    "  global function ojs_define(; kwargs...)\n",
    "    content = Dict(\"contents\" => [Dict(\"name\" => k, \"value\" => v) for (k, v) in kwargs])\n",
    "    tag = \"<script type='ojs-define'>$(JSON.json(content))</script>\"\n",
    "    IJulia.display(MIME(\"text/html\"), tag)\n",
    "  end\n",
    "else\n",
    "  global function ojs_define(; kwargs...)\n",
    "    @warn \"JSON package not available. Please install the JSON.jl package to use ojs_define.\"\n",
    "  end\n",
    "end\n",
    "\n",
    "\n",
    "# don't return kernel dependencies (b/c Revise should take care of dependencies)\n",
    "nothing\n"
   ]
  },
  {
   "cell_type": "code",
   "execution_count": 2,
   "id": "d2aa1f21",
   "metadata": {},
   "outputs": [],
   "source": [
    "using DataFrames # We need to load the DataFrames package to create a DataFrame\n",
    "\n",
    "john_tuple = (\"John\", 25, 1.8)\n",
    "john_ntuple = (name = \"John\", age = 25, height = 1.8)\n",
    "john_dict = Dict(\"name\" => \"John\", \"age\" => 25, \"height\" => 1.8)\n",
    "john_df = DataFrame(name = \"John\", age = 25, height = 1.8);"
   ]
  },
  {
   "cell_type": "code",
   "execution_count": 3,
   "id": "975b5f50",
   "metadata": {},
   "outputs": [
    {
     "data": {
      "text/plain": [
       "3×3 Matrix{Int64}:\n",
       " 1  2  3\n",
       " 4  5  6\n",
       " 7  8  9"
      ]
     },
     "execution_count": 3,
     "metadata": {},
     "output_type": "execute_result"
    }
   ],
   "source": [
    "people_vec = [\"John\", \"Jane\", \"Joe\"]\n",
    "test_arr = [1 2 3; 4 5 6; 7 8 9]"
   ]
  },
  {
   "cell_type": "code",
   "execution_count": 4,
   "id": "3911fb4e",
   "metadata": {},
   "outputs": [
    {
     "data": {
      "text/plain": [
       "\"John\""
      ]
     },
     "execution_count": 4,
     "metadata": {},
     "output_type": "execute_result"
    }
   ],
   "source": [
    "john_tuple[1] # \"John\"\n",
    "john_ntuple[1] # \"John\"\n",
    "people_vec[1]"
   ]
  },
  {
   "cell_type": "code",
   "execution_count": 5,
   "id": "5ac2196a",
   "metadata": {},
   "outputs": [
    {
     "data": {
      "text/plain": [
       "\"John\""
      ]
     },
     "execution_count": 5,
     "metadata": {},
     "output_type": "execute_result"
    }
   ],
   "source": [
    "test_arr[1, 1]\n",
    "john_df[1, 1]"
   ]
  },
  {
   "cell_type": "code",
   "execution_count": 6,
   "id": "ab280d8d",
   "metadata": {},
   "outputs": [
    {
     "data": {
      "text/plain": [
       "3-element Vector{Int64}:\n",
       " 1\n",
       " 4\n",
       " 7"
      ]
     },
     "execution_count": 6,
     "metadata": {},
     "output_type": "execute_result"
    }
   ],
   "source": [
    "test_arr[:, 1]"
   ]
  },
  {
   "cell_type": "code",
   "execution_count": 7,
   "id": "53e7dc0c",
   "metadata": {},
   "outputs": [
    {
     "data": {
      "text/plain": [
       "1-element Vector{String}:\n",
       " \"John\""
      ]
     },
     "execution_count": 7,
     "metadata": {},
     "output_type": "execute_result"
    }
   ],
   "source": [
    "john_df[:, 1]"
   ]
  },
  {
   "cell_type": "code",
   "execution_count": 8,
   "id": "f069f25e",
   "metadata": {},
   "outputs": [
    {
     "data": {
      "text/plain": [
       "3-element Vector{Int64}:\n",
       " 1\n",
       " 2\n",
       " 3"
      ]
     },
     "execution_count": 8,
     "metadata": {},
     "output_type": "execute_result"
    }
   ],
   "source": [
    "test_arr[1, :]"
   ]
  },
  {
   "cell_type": "code",
   "execution_count": 9,
   "id": "117430b7",
   "metadata": {},
   "outputs": [
    {
     "data": {
      "text/plain": [
       "\"John\""
      ]
     },
     "execution_count": 9,
     "metadata": {},
     "output_type": "execute_result"
    }
   ],
   "source": [
    "john_dict[\"name\"]"
   ]
  },
  {
   "cell_type": "code",
   "execution_count": 10,
   "id": "b8ccee98",
   "metadata": {},
   "outputs": [
    {
     "data": {
      "text/plain": [
       "\"John\""
      ]
     },
     "execution_count": 10,
     "metadata": {},
     "output_type": "execute_result"
    }
   ],
   "source": [
    "john_df[1, :name] # The : operator before the column name turns it into a symbol that can be used to index the dataframe\n",
    "john_df[1, \"name\"]\n",
    "\n",
    "john_ntuple.name"
   ]
  },
  {
   "cell_type": "code",
   "execution_count": 11,
   "id": "604d85cb",
   "metadata": {},
   "outputs": [
    {
     "data": {
      "text/plain": [
       "multiply_by_two_divide_by_three (generic function with 1 method)"
      ]
     },
     "execution_count": 11,
     "metadata": {},
     "output_type": "execute_result"
    }
   ],
   "source": [
    "function multiply_by_two_divide_by_three(x)\n",
    "    y = x * 2\n",
    "    z = y / 3\n",
    "    return z # it's good practice to explicitly return a value (or nothing in special cases)\n",
    "end"
   ]
  },
  {
   "cell_type": "code",
   "execution_count": 12,
   "id": "fb21c2e8",
   "metadata": {},
   "outputs": [
    {
     "data": {
      "text/plain": [
       "2.0"
      ]
     },
     "execution_count": 12,
     "metadata": {},
     "output_type": "execute_result"
    }
   ],
   "source": [
    "multiply_by_two_divide_by_three(3)"
   ]
  },
  {
   "cell_type": "code",
   "execution_count": 13,
   "id": "78803365",
   "metadata": {},
   "outputs": [
    {
     "data": {
      "text/plain": [
       "6.666666666666667"
      ]
     },
     "execution_count": 13,
     "metadata": {},
     "output_type": "execute_result"
    }
   ],
   "source": [
    "multiply_by_two_divide_by_three(10)"
   ]
  },
  {
   "cell_type": "code",
   "execution_count": 14,
   "id": "2a117bb7",
   "metadata": {},
   "outputs": [
    {
     "data": {
      "text/plain": [
       "multiply_together_offsets (generic function with 1 method)"
      ]
     },
     "execution_count": 14,
     "metadata": {},
     "output_type": "execute_result"
    }
   ],
   "source": [
    "function multiply_together_offsets(x, y)\n",
    "    z = (x - 1) * (y + 1)\n",
    "    return z\n",
    "end"
   ]
  },
  {
   "cell_type": "code",
   "execution_count": 15,
   "id": "6ee76a1d",
   "metadata": {},
   "outputs": [
    {
     "data": {
      "text/plain": [
       "44"
      ]
     },
     "execution_count": 15,
     "metadata": {},
     "output_type": "execute_result"
    }
   ],
   "source": [
    "multiply_together_offsets(5, 10)"
   ]
  },
  {
   "cell_type": "code",
   "execution_count": 16,
   "id": "a3683176",
   "metadata": {},
   "outputs": [
    {
     "data": {
      "text/plain": [
       "54"
      ]
     },
     "execution_count": 16,
     "metadata": {},
     "output_type": "execute_result"
    }
   ],
   "source": [
    "multiply_together_offsets(10, 5)"
   ]
  },
  {
   "cell_type": "code",
   "execution_count": 17,
   "id": "7307b59f",
   "metadata": {},
   "outputs": [
    {
     "data": {
      "text/plain": [
       "multiply_together_offsets (generic function with 1 method)"
      ]
     },
     "execution_count": 17,
     "metadata": {},
     "output_type": "execute_result"
    }
   ],
   "source": [
    "function multiply_together_offsets(x, y; offset_x = 1, offset_y = 1)\n",
    "    z = (x - offset_x) * (y + offset_y)\n",
    "    return z\n",
    "end"
   ]
  },
  {
   "cell_type": "code",
   "execution_count": 18,
   "id": "a2289bc5",
   "metadata": {},
   "outputs": [
    {
     "data": {
      "text/plain": [
       "44"
      ]
     },
     "execution_count": 18,
     "metadata": {},
     "output_type": "execute_result"
    }
   ],
   "source": [
    "multiply_together_offsets(5, 10)"
   ]
  },
  {
   "cell_type": "code",
   "execution_count": 19,
   "id": "599e5a95",
   "metadata": {},
   "outputs": [
    {
     "data": {
      "text/plain": [
       "39"
      ]
     },
     "execution_count": 19,
     "metadata": {},
     "output_type": "execute_result"
    }
   ],
   "source": [
    "multiply_together_offsets(5, 10; offset_x = 2, offset_y = 3)"
   ]
  },
  {
   "cell_type": "code",
   "execution_count": 20,
   "id": "9cc0d6de",
   "metadata": {},
   "outputs": [
    {
     "data": {
      "text/plain": [
       "6"
      ]
     },
     "execution_count": 20,
     "metadata": {},
     "output_type": "execute_result"
    }
   ],
   "source": [
    "function add_one(x)\n",
    "    y = x + 1\n",
    "    return y\n",
    "end\n",
    "\n",
    "add_one(5)"
   ]
  },
  {
   "cell_type": "code",
   "execution_count": 21,
   "id": "32412ecc",
   "metadata": {},
   "outputs": [
    {
     "ename": "LoadError",
     "evalue": "UndefVarError: `y` not defined",
     "output_type": "error",
     "traceback": [
      "UndefVarError: `y` not defined",
      ""
     ]
    }
   ],
   "source": [
    "#| error: true\n",
    "y"
   ]
  },
  {
   "cell_type": "code",
   "execution_count": 22,
   "id": "d5226b0a",
   "metadata": {},
   "outputs": [
    {
     "name": "stdout",
     "output_type": "stream",
     "text": [
      "5\n"
     ]
    }
   ],
   "source": [
    "global_x = 5\n",
    "\n",
    "function print_global_x()\n",
    "    return println(global_x)\n",
    "end\n",
    "\n",
    "print_global_x()"
   ]
  },
  {
   "cell_type": "code",
   "execution_count": 23,
   "id": "9831ea4a",
   "metadata": {},
   "outputs": [
    {
     "data": {
      "text/plain": [
       "5"
      ]
     },
     "execution_count": 23,
     "metadata": {},
     "output_type": "execute_result"
    }
   ],
   "source": [
    "function modify_global_x()\n",
    "    global_x = 10\n",
    "    return global_x\n",
    "end\n",
    "\n",
    "modify_global_x()\n",
    "\n",
    "global_x"
   ]
  },
  {
   "cell_type": "code",
   "execution_count": 24,
   "id": "1ddb641e",
   "metadata": {},
   "outputs": [
    {
     "data": {
      "text/plain": [
       "multiply_by_two_divide_by_three (generic function with 2 methods)"
      ]
     },
     "execution_count": 24,
     "metadata": {},
     "output_type": "execute_result"
    }
   ],
   "source": [
    "function multiply_by_two_divide_by_three(x::Tuple)\n",
    "    y = zeros(Float64, length(x))\n",
    "    z = similar(y)\n",
    "\n",
    "    for i in eachindex(x)\n",
    "        y[i] = x[i] * 2\n",
    "        z[i] = y[i] / 3\n",
    "    end\n",
    "\n",
    "    return z\n",
    "end"
   ]
  },
  {
   "cell_type": "code",
   "execution_count": 25,
   "id": "69036309",
   "metadata": {},
   "outputs": [
    {
     "data": {
      "text/plain": [
       "3-element Vector{Float64}:\n",
       " 0.6666666666666666\n",
       " 1.3333333333333333\n",
       " 2.0"
      ]
     },
     "execution_count": 25,
     "metadata": {},
     "output_type": "execute_result"
    }
   ],
   "source": [
    "multiply_by_two_divide_by_three((1, 2, 3))"
   ]
  },
  {
   "cell_type": "code",
   "execution_count": 26,
   "id": "5a9d8ba6",
   "metadata": {},
   "outputs": [
    {
     "data": {
      "text/plain": [
       "2.0"
      ]
     },
     "execution_count": 26,
     "metadata": {},
     "output_type": "execute_result"
    }
   ],
   "source": [
    "multiply_by_two_divide_by_three(3)"
   ]
  },
  {
   "cell_type": "code",
   "execution_count": 27,
   "id": "09497b3b",
   "metadata": {},
   "outputs": [
    {
     "name": "stdout",
     "output_type": "stream",
     "text": [
      "x is greater than y.\n"
     ]
    }
   ],
   "source": [
    "function number_relations(x, y)\n",
    "    if x < y\n",
    "        relation = \"less than\"\n",
    "    elseif x == y\n",
    "        relation = \"equal to\"\n",
    "    else\n",
    "        relation = \"greater than\"\n",
    "    end\n",
    "    return println(\"x is \", relation, \" y.\")\n",
    "end\n",
    "\n",
    "number_relations(2, 1)"
   ]
  },
  {
   "cell_type": "code",
   "execution_count": 28,
   "id": "a36d3821",
   "metadata": {},
   "outputs": [
    {
     "name": "stdout",
     "output_type": "stream",
     "text": [
      "x is between 0 and 10\n"
     ]
    }
   ],
   "source": [
    "function number_between(x)\n",
    "    if x > 0 && x < 10\n",
    "        println(\"x is between 0 and 10\")\n",
    "    else\n",
    "        println(\"x is not between 0 and 10\")\n",
    "    end\n",
    "end\n",
    "\n",
    "number_between(3)"
   ]
  },
  {
   "cell_type": "code",
   "execution_count": 29,
   "id": "f5635c42",
   "metadata": {},
   "outputs": [
    {
     "name": "stdout",
     "output_type": "stream",
     "text": [
      "x is not between 0 and 10\n"
     ]
    }
   ],
   "source": [
    "number_between(11)"
   ]
  },
  {
   "cell_type": "code",
   "execution_count": 30,
   "id": "10904775",
   "metadata": {},
   "outputs": [
    {
     "name": "stdout",
     "output_type": "stream",
     "text": [
      "x is between 0 and 10\n"
     ]
    }
   ],
   "source": [
    "function number_between2(x)\n",
    "    if x > 0 && ((x > 10) == false)\n",
    "        println(\"x is between 0 and 10\")\n",
    "    else\n",
    "        println(\"x is not between 0 and 10\")\n",
    "    end\n",
    "end\n",
    "\n",
    "number_between2(3)"
   ]
  },
  {
   "cell_type": "code",
   "execution_count": 31,
   "id": "4e68fe12",
   "metadata": {},
   "outputs": [
    {
     "data": {
      "text/plain": [
       "55"
      ]
     },
     "execution_count": 31,
     "metadata": {},
     "output_type": "execute_result"
    }
   ],
   "source": [
    "function mycumsum(x)\n",
    "    y = 0 # Initialize our running total to 0\n",
    "\n",
    "    # For each number in x, add it to our running total\n",
    "    for i in x\n",
    "        y += x[i] # This is equivalent to y = y + x[i]\n",
    "    end\n",
    "\n",
    "    return y\n",
    "end\n",
    "\n",
    "mycumsum(1:10)"
   ]
  },
  {
   "cell_type": "code",
   "execution_count": 32,
   "id": "e0096a6c",
   "metadata": {},
   "outputs": [
    {
     "name": "stdout",
     "output_type": "stream",
     "text": [
      "We added 15 numbers to get to 105\n"
     ]
    }
   ],
   "source": [
    "function mycumsum2(x)\n",
    "    y = 0 # Initialize our running total to 0\n",
    "    i = 1 # Initialize our counter to 1\n",
    "\n",
    "    # While our running total is less than 100, add the next number to our running total\n",
    "    while y < 100\n",
    "        y += x[i] # This is equivalent to y = y + x[i]\n",
    "        i += 1 # Update our counter so we can add the next number\n",
    "    end\n",
    "\n",
    "    return println(\"We added \", i, \" numbers to get to \", y)\n",
    "end\n",
    "\n",
    "mycumsum2(1:100)"
   ]
  }
 ],
 "metadata": {
  "kernelspec": {
   "display_name": "Julia 1.9.2",
   "language": "julia",
   "name": "julia-1.9"
  },
  "language_info": {
   "file_extension": ".jl",
   "mimetype": "application/julia",
   "name": "julia",
   "version": "1.9.2"
  }
 },
 "nbformat": 4,
 "nbformat_minor": 5
}