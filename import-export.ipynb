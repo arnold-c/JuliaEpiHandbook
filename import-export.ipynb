{
  "cells": [
    {
      "cell_type": "raw",
      "metadata": {},
      "source": [
        "---\n",
        "date: '2024-06-02'\n",
        "---"
      ],
      "id": "5e08e78e"
    },
    {
      "cell_type": "markdown",
      "metadata": {},
      "source": [
        "# Importing Files {.unnumbered}\n",
        "\n",
        "## Overview\n",
        "\n",
        "Unfortunately, unlike R, Julia doesn't have a single package to import the majority of file types.\n",
        "That being said, each package works well at the file type it is built around.\n"
      ],
      "id": "5fa63d62"
    }
  ],
  "metadata": {
    "kernelspec": {
      "name": "julia-1.10",
      "language": "julia",
      "display_name": "julia 1.10.0"
    }
  },
  "nbformat": 4,
  "nbformat_minor": 5
}