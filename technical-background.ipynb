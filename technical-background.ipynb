{
  "cells": [
    {
      "cell_type": "raw",
      "metadata": {},
      "source": [
        "---\n",
        "date: \"2023-05-20\"\n",
        "engine: julia\n",
        "---"
      ],
      "id": "55f1f81b"
    },
    {
      "cell_type": "markdown",
      "metadata": {},
      "source": [
        "# Keywords, Code, and Other Formatting {.unnumbered}\n",
        "\n",
        "## General Formatting\n",
        "\n",
        "Throughout the book, you'll see some keywords, code, and other points that I'll try to delineate with the following formatting:\n",
        "\n",
        "::: {.callout-note}\n",
        "This will be a note, and will be used to highlight important points, or to provide additional information.\n",
        ":::\n",
        "\n",
        "::: {.callout-tip}\n",
        "This will be used to highlight a useful tip.\n",
        ":::\n",
        "\n",
        "::: {.callout-warning}\n",
        "\n",
        "This will provide a warning that you may get an unexpected result if you're not careful.\n",
        "\n",
        ":::\n",
        "\n",
        "- `code` will be used to highlight code.\n",
        "- `{package}` will be used to denote a specific package, e.g., `{DataFrames}` denotes the `{DataFrames}` package.\n",
        "- `package.function()` will be used to denote a function that is part of a specific package, e.g., `DataFrames.subset()` denotes the `subset()` function from the `{DataFrames}` package.\n",
        "Some languages use a different convention, such as `package::function()` in R, but I will use the `package.function()` syntax listed above as this is how you would use a function in Julia.\n",
        "- **keywords** will be used to highlight keywords and phrases, e.g., **Git** or **GitHub**.\n",
        "    - **actions** will also be highlighted in this way, e.g., **commits** or **pushed** being the result of the code `git commit` or `git push` \n",
        "- ***files*** will be used to highlight file names, e.g., ***README.md*** or ***LICENSE***.\n",
        "- *italics* will be used for emphasis in certain circumstances, e.g., signifying a question from an interactive terminal command.\n",
        "\n",
        "## Packages\n",
        "\n",
        "Throughout this book, I will use a number of packages to help with the analysis and visualization of data.\n",
        "For each section, I will provide a list of the packages used in a particular set of analyses at the top of the page.\n",
        "The Julia language has an excellent package manager that makes it easy to install and use packages, and also share projects and collaborate with others without running into issues regarding dependencies that often plagues other languages.\n",
        "In the next section, I will walk through the process of getting started with Julia, and therefore, the process of installing packages, but below you can see the full list of packages and the installed version of Julia used in this book.\n"
      ],
      "id": "e566605c"
    },
    {
      "cell_type": "code",
      "metadata": {},
      "source": [
        "versioninfo()"
      ],
      "id": "3893f670",
      "execution_count": null,
      "outputs": []
    },
    {
      "cell_type": "code",
      "metadata": {},
      "source": [
        "using Pkg\n",
        "Pkg.status()"
      ],
      "id": "67e6f128",
      "execution_count": null,
      "outputs": []
    },
    {
      "cell_type": "markdown",
      "metadata": {},
      "source": [
        "## Code Style\n",
        "\n",
        "There are many different ways to write code, and many different styles.\n",
        "But, in the interest of consistency and ease of collaboration, I would strongly recommend you use the [`{JuliaFormatter}` package](https://domluna.github.io/JuliaFormatter.jl/dev/) to format your code according to a specific style guide.\n",
        "In this book, I will use a lightly modified version of the [Blue style guide](https://github.com/invenia/BlueStyle), and you can see the specific changes to the default style in the ***.JuliaFormatter.toml*** file in the root directory of this book's GitHub repository.\n",
        "In the next section, I will discuss how you can use the `{JuliaFormatter}` package to format your code."
      ],
      "id": "5d0428d6"
    }
  ],
  "metadata": {
    "kernelspec": {
      "name": "julia-1.10-1.10",
      "language": "julia",
      "display_name": "julia-1.10 1.10.0"
    }
  },
  "nbformat": 4,
  "nbformat_minor": 5
}