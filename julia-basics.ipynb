{
  "cells": [
    {
      "cell_type": "raw",
      "metadata": {},
      "source": [
        "---\n",
        "date: \"2023-05-26\"\n",
        "engine: julia\n",
        "---"
      ],
      "id": "366b9310"
    },
    {
      "cell_type": "markdown",
      "metadata": {},
      "source": [
        "# Julia Basics {.unnumbered}\n",
        "## Key Terms\n",
        "\n",
        "- **REPL**: The Julia REPL is the Julia Read-Eval-Print-Loop.\n",
        "    This is the interactive command line interface for Julia.\n",
        "    When you start Julia in the command line (terminal in Mac/Linux, command prompt in Windows), you are in the REPL, and it is a common way to interact with Julia.\n",
        "- **Package**: A package is a collection of code that can be used to extend the functionality of Julia and complete specific tasks.\n",
        "    Packages are installed using the `Pkg` package manager.\n",
        "- **Variable**: A variable is a value or object that you have assigned a name.\n",
        "    This may be as simple as a number or a sentence (a string variable), or as complex as a model or a plot.\n",
        "- **Function**: A function is a block of code that performs a specific task.\n",
        "    Functions are called by name and can take arguments, before completing some computation and returning a value or object.\n",
        "    Sometimes functions are written and called for their side effects, i.e. they do not directly return an object, but instead perform some action.\n",
        "- **Method**: A method is a specific implementation of a function.\n",
        "- **Multiple Dispatch**: Multiple dispatch is a really exciting feature of Julia, but also one that is more difficult to understand for newer programmers.\n",
        "    The basic premise is that in Julia, how functions behave depends on the types of the arguments that are passed to them.\n",
        "    For example, the `*` operator (function) will behave differently if you try to multiply two integers (whole numbers), two floats (numbers with decimals), two matrices, any combination of these etc.\n",
        "    Each of these different behaviors is a different **method** of the `*` function.\n",
        "\n",
        "## What to Expect\n",
        "\n",
        "As mentioned previously, this book (and page) is not meant to provide a ground-up description of everything you need to know about Julia.\n",
        "Instead, we'll give an overview of some of the key concepts and features that should provide enough of an understanding that you can start using Julia with reasonable confidence.\n",
        "It'll likely take a couple of passes through this page to really get a good understanding of the concepts, and that's okay!\n",
        "It's meant to act as a reference so you can come back to it later if you don't understand something in the later, more-applied, sections.\n",
        "At the bottom of this page are some additional resources that you can use to gain a deeper understanding of Julia.\n",
        "\n",
        "## Data Types and Structures\n",
        "\n",
        "There are a number of different data types and structures in Julia.\n",
        "Here are the key ones for your to be aware of.\n",
        "\n",
        "**Data Types**:\n",
        "\n",
        "- **Integer**\n",
        "  - Whole numbers\n",
        "- **Float**\n",
        "  - Numbers with decimals\n",
        "- **Boolean**\n",
        "  - `true` or `false` (written in lowercase)\n",
        "    - `true` has equal value to `1` e.g. `1 == true`\n",
        "    - `false` has equal value to `0` e.g. `0 == false`\n",
        "\n",
        "::: {.callout-note}\n",
        "\n",
        "In Julia, the `==` operator is used to check if two values are equal.\n",
        "It returns a boolean value, `true` or `false`, depending on whether the values are equal or not i.e. `1 == true` returns `true` because `1` and `true` are equal!\n",
        "It is different to the `=` operator, which is used to assign a value to a variable (see [this section below](#assignment) for more details on variables).\n",
        "\n",
        "In Julia there is also the `===` operator, which is used to check if two values are identical.\n",
        "This is different to the `==` operator, which checks if two values are equal.\n",
        "For example, `1 == true` returns `true` because `1` and `true` are equal, but `1 === true` returns `false` because `1` and `true` are not identical (they are not stored in the same location in memory in the computer).\n",
        "\n",
        ":::\n",
        "\n",
        "- **Char**\n",
        "  - A single character e.g. `\"H\"`\n",
        "- **String**\n",
        "    - A sequence of characters e.g. `\"Hello World!\"`\n",
        "\n",
        "**Data Structures**:\n",
        "\n",
        "- **Array**\n",
        "  - An **array** is a collection of values that are all the same type.\n",
        "  Arrays can be one-dimensional (**vectors**), two-dimensional (**matrices**), or multi-dimensional.\n",
        "  Arrays are **mutable**, meaning that they can be changed after they are created.\n",
        "  An example of an array is `[1, 2, 3]`\n",
        "- **DataFrame**\n",
        "  - A **DataFrame** is a special type of **array** created by the `{DataFrames}` package that is used to store tabular data.\n",
        "  It is a collection of columns, where each column is an **array** of the same type.**DataFrames** are **mutable**, meaning that they can be changed after they are created.\n",
        "- **Tuple**\n",
        "  - A **tuple** is a collection of values that do not all have to be the same type.\n",
        "  **Tuples** are very useful because they require very little memory, so are fast to create and access.\n",
        "  They are also **immutable**, meaning that they cannot be changed after they are created, but because they are so fast to create, you can just create a new tuple with the values you want.\n",
        "  An example of a **tuple** is `(\"John\", 25, 1.8)`\n",
        "- **Dictionary**\n",
        "  - A dictionary is a collection of key-value pairs that do not need to be of the same type.\n",
        "    **Dictionaries** are **mutable**, and are very useful for storing data that you want to access by a key (i.e. name), rather than an index.\n",
        "    For example, you might want to store a person's name, age, and height e.g. `Dict(\"name\" => \"John\", \"age\" => 25, \"height\" => 1.8)`\n",
        "- **Named Tuple**\n",
        "  - A variant of the **tuple** is the **named tuple**.\n",
        "  It is a cross between a **tuple** and a **dictionary**, and therefore has the benefits of being able to access values with keys instead of indices (though you use indices), but it is **immutable** and much smaller and faster than a **dictionary**.\n",
        "  For our person example, a **named tuple** would look like `(name = \"John\", age = 25, height = 1.8)`\n",
        "- **Structs**\n",
        "  - A **struct** is a custom data type that you can create to store data.\n",
        "  It is similar to a **named tuple** in that it is **immutable** and you can access values with keys instead of indices.\n",
        "  One reason you may prefer to use a **struct** over a **named tuple** is that you can define methods for a **struct** (see [the multiple dispatch section](#multiple-dispatch) for more details).\n",
        "  Creating **structs** are out of the scope of this book, but it is important to know that they exist and are a useful tool for organizing your data.\n",
        "  If you want to learn more about **structs**, check out the [documentation](https://docs.julialang.org/en/v1/manual/types/#Composite-Types) and [this tutorial](https://www.youtube.com/watch?v=pHQe3PiYY1w).\n",
        "\n",
        "If you have an object and want to tell what type it is, you can use the `typeof()` function.\n",
        "If you have an array and want to tell what type the elements of the array are, you can use the `eltype()` function.\n",
        "\n",
        "## Variables\n",
        "\n",
        "Variables really just stored pieces of information that you've given a name to.\n",
        "This is useful because it allows you to run a calculation, for example, and then save it for use later on.\n",
        "That way you don't need to run the calculation again, you can just pull the value out of storage!\n",
        "A slightly different example is if you have a constant value that you use multiple times in your code, e.g. the size of a population.\n",
        "Rather than typing out the value every time you need it, you can just store it in a variable and use the variable name instead.\n",
        "This not only saves you time and makes your code more readable, but also can reduce the chance of making a mistake (e.g. if you accidentally type the wrong value when copying it to a new calculation).\n",
        "\n",
        "### Assignment\n",
        "\n",
        "Now we know what **variables** are, let's look at how to create them.\n",
        "As mentioned earlier, we use the `=` operator to assign a value to a **variable**.\n",
        "For example, if we wanted to create a variable called `x` and assign it the value `1`, we would write `x = 1`.\n",
        "But we aren't just restricted to numbers, we can assign any type of value to a variable.\n",
        "This includes **strings**, **arrays**, **tuples**, **dictionaries**, and **structs**.\n",
        "\n",
        "Earlier, when talking about data structures, we used the example of a person's name, age, and height.\n",
        "Let's see how we can create **tuples**, **dictionaries**, and **dataframes** to store this information.\n"
      ],
      "id": "549f8c8a"
    },
    {
      "cell_type": "code",
      "metadata": {},
      "source": [
        "using DataFrames # We need to load the DataFrames package to create a DataFrame\n",
        "\n",
        "john_tuple = (\"John\", 25, 1.8)\n",
        "john_ntuple = (name = \"John\", age = 25, height = 1.8)\n",
        "john_dict = Dict(\"name\" => \"John\", \"age\" => 25, \"height\" => 1.8)\n",
        "john_df = DataFrame(name = \"John\", age = 25, height = 1.8);"
      ],
      "id": "5aaf6655",
      "execution_count": null,
      "outputs": []
    },
    {
      "cell_type": "markdown",
      "metadata": {},
      "source": [
        "::: {.callout-note}\n",
        "\n",
        "When creating a dictionary, you can use the `=>` operator to assign a value to a key.\n",
        "The key is always on the left, and the value is always on the right.\n",
        "\n",
        "At the end of the test array assignment, we have a semicolon (`;`).\n",
        "This has nothing to do with the array, but is used to suppress the output of the assignment, so when we run the code, we don't see the array printed to the screen.\n",
        "\n",
        ":::\n",
        "\n",
        "Because a person's name is a string, their age is an integer, and their height is a float, we cannot create an array to store this information, because arrays can only store values of the same type.\n",
        "To show how we can create and access **arrays**, let's create a **vector** (1-D array) of multiple people's names, as well as a random **matrix** (2-D array).\n"
      ],
      "id": "4687d2da"
    },
    {
      "cell_type": "code",
      "metadata": {},
      "source": [
        "people_vec = [\"John\", \"Jane\", \"Joe\"]\n",
        "test_arr = [1 2 3; 4 5 6; 7 8 9]"
      ],
      "id": "99b1df19",
      "execution_count": null,
      "outputs": []
    },
    {
      "cell_type": "markdown",
      "metadata": {},
      "source": [
        "::: {.callout-note}\n",
        "\n",
        "When creating a matrix, you can use a semi-colon to separate rows in the matrix.\n",
        "One alternative is to specify the exact positions of each value e.g.\n",
        "\n",
        "```julia\n",
        "test_arr = [\n",
        "    1 2 3\n",
        "    4 5 6\n",
        "    7 8 9\n",
        "]\n",
        "```\n",
        "\n",
        ":::\n",
        "\n",
        "### Accessing Values\n",
        "\n",
        "To access the value stored in a variable, we can often use indices.\n",
        "Julia, like R, is a 1-indexed language, meaning that the first element in an array has an index of 1, not 0 (like Python).\n",
        "In our examples, the first element of the objects we created is the person's name, so we can access it with an index of 1.\n"
      ],
      "id": "43a00eb4"
    },
    {
      "cell_type": "code",
      "metadata": {},
      "source": [
        "john_tuple[1] # \"John\"\n",
        "john_ntuple[1] # \"John\"\n",
        "people_vec[1]"
      ],
      "id": "da66c512",
      "execution_count": null,
      "outputs": []
    },
    {
      "cell_type": "markdown",
      "metadata": {},
      "source": [
        "For **dataframes** and multi-dimensional **arrays**, we have to make a slight modification to use a comma that separates the indices for each dimension.\n",
        "In an array/dataframe, the first index is the row number, and the second index is the column number.\n",
        "To access the element in the first row and the first column of the array, we would use the following code.\n"
      ],
      "id": "add89cca"
    },
    {
      "cell_type": "code",
      "metadata": {},
      "source": [
        "test_arr[1, 1]\n",
        "john_df[1, 1]"
      ],
      "id": "3981389f",
      "execution_count": null,
      "outputs": []
    },
    {
      "cell_type": "markdown",
      "metadata": {},
      "source": [
        "If we want to access an entire row or column, we can use the `:` operator.\n",
        "For example, if we want to access the first column of the array, we can use the following code.\n"
      ],
      "id": "a3cdcfe6"
    },
    {
      "cell_type": "code",
      "metadata": {},
      "source": [
        "test_arr[:, 1]"
      ],
      "id": "2e38c0a7",
      "execution_count": null,
      "outputs": []
    },
    {
      "cell_type": "code",
      "metadata": {},
      "source": [
        "john_df[:, 1]"
      ],
      "id": "c819ccb0",
      "execution_count": null,
      "outputs": []
    },
    {
      "cell_type": "markdown",
      "metadata": {},
      "source": [
        "If we want to access the first row of the array, we can use the following code.\n"
      ],
      "id": "1b11afea"
    },
    {
      "cell_type": "code",
      "metadata": {},
      "source": [
        "test_arr[1, :]"
      ],
      "id": "506a604c",
      "execution_count": null,
      "outputs": []
    },
    {
      "cell_type": "markdown",
      "metadata": {},
      "source": [
        "::: {.callout-note}\n",
        "\n",
        "In all cases where we used the `:` operator, we get a **column vector** as the output, not a single value, regardless of whether we are extracting a row or a column from the original array!\n",
        "\n",
        ":::\n",
        "\n",
        "However, none of these methods work for **dictionaries**.\n",
        "For dictionaries, you need to specify the key of the value you want to access.\n"
      ],
      "id": "fd384222"
    },
    {
      "cell_type": "code",
      "metadata": {},
      "source": [
        "john_dict[\"name\"]"
      ],
      "id": "db16a701",
      "execution_count": null,
      "outputs": []
    },
    {
      "cell_type": "markdown",
      "metadata": {},
      "source": [
        "You can also use the key (or column name) to access the value in **dataframes** and **named tuples**.\n"
      ],
      "id": "7ba94804"
    },
    {
      "cell_type": "code",
      "metadata": {},
      "source": [
        "john_df[1, :name] # The : operator before the column name turns it into a symbol that can be used to index the dataframe\n",
        "john_df[1, \"name\"]\n",
        "\n",
        "john_ntuple.name"
      ],
      "id": "dba7a1f4",
      "execution_count": null,
      "outputs": []
    },
    {
      "cell_type": "markdown",
      "metadata": {},
      "source": [
        "## Functions\n",
        "### Overview\n",
        "\n",
        "Functions are a core part of programming in Julia, and programming in general.\n",
        "A function is a block of code that performs a specific task.\n",
        "As has been said before, a function is like a recipe you might use to bake a cake.\n",
        "The recipe tells you what ingredients you need, how to combine them, and how long to bake them for.\n",
        "And like a recipe, a function can be used over and over again to produce the same result (assuming you have identical inputs).\n",
        "This is a really powerful concept, and helps make your work and research reproducible by breaking up your code into small, reusable, and understandable chunks.\n",
        "And because it is meant to be reused, it will save you time in cases when you need to do the same thing multiple times (you don't want to have to write the same code over and over again)!\n",
        "\n",
        "So let's look at a simple example of a function in Julia, and use it to explore some of the key concepts of functions.\n",
        "\n",
        "Say we want to take a number, multiply it by 2, and then divide the result by 3.\n",
        "You could just write this out explicitly, but what if you want to do this for a bunch of different numbers?\n",
        "This is where a function comes in handy.\n"
      ],
      "id": "43fcfdf9"
    },
    {
      "cell_type": "code",
      "metadata": {},
      "source": [
        "function multiply_by_two_divide_by_three(x)\n",
        "    y = x * 2\n",
        "    z = y / 3\n",
        "    return z # it's good practice to explicitly return a value (or nothing in special cases)\n",
        "end"
      ],
      "id": "09fb9842",
      "execution_count": null,
      "outputs": []
    },
    {
      "cell_type": "markdown",
      "metadata": {},
      "source": [
        "This function takes a single **argument**, `x`, and then multiplies it by 2 and divides it by 3.\n",
        "The `return` keyword tells Julia what value to return from the function.\n",
        "It also tells Julia that the function is finished, and it will not execute any code after the `return` statement.\n",
        "\n",
        "Let's try using this function.\n"
      ],
      "id": "aef2888b"
    },
    {
      "cell_type": "code",
      "metadata": {},
      "source": [
        "multiply_by_two_divide_by_three(3)"
      ],
      "id": "99ea43ce",
      "execution_count": null,
      "outputs": []
    },
    {
      "cell_type": "code",
      "metadata": {},
      "source": [
        "multiply_by_two_divide_by_three(10)"
      ],
      "id": "91e08ba1",
      "execution_count": null,
      "outputs": []
    },
    {
      "cell_type": "markdown",
      "metadata": {},
      "source": [
        "Note that in both of these examples, a floating point number is returned i.e., a number with decimals.\n",
        "\n",
        "::: {.callout-note}\n",
        "\n",
        "Without going into too much detail, it is good practice to give functions short, descriptive names.\n",
        "A good example would be `cumsum()` that is provided in Julia and calculates the cumulative sum of a vector.\n",
        "\n",
        "If a function name is too long to write without separating the words, use snake case (words separated by underscores) e.g. `multiply_by_two_divide_by_three()` rather than leaving as a single block of text (`multiplybytwodividebythree()`), or using camelCase (`multiplyByTwoDivideByThree()`).\n",
        "\n",
        "It is also good practice to add a docstring to your function.\n",
        "This is a short description of what the function does, and can be accessed by typing `?` followed by the function name in the REPL.\n",
        "This means that you can quickly understand exactly what a function does without having to work your way through the code, really helping others who may read your code, but also future you if you revisit a project.\n",
        "\n",
        "An example of adding a docstring to a function may be as simple as adapting our original code to look like the following.\n",
        "\n",
        "```julia\n",
        "\"\"\"\n",
        "    multiply_by_two_divide_by_three(x)\n",
        "\n",
        "Multiply `x` by 2 and divide by 3.\n",
        "\"\"\"\n",
        "function multiply_by_two_divide_by_three(x)\n",
        "    y = x * 2\n",
        "    z = y / 3\n",
        "    return z\n",
        "end\n",
        "```\n",
        "\n",
        "Read more about docstrings [here](https://docs.julialang.org/en/v1/manual/documentation/).\n",
        "\n",
        ":::\n",
        "\n",
        "### Arguments & Keyword Arguments\n",
        "\n",
        "Unlike R, Julia makes a distinction between arguments and keyword arguments.\n",
        "Arguments are the values that are passed to a function.\n",
        "In the example function above, `x` is an argument.\n",
        "In Julia, arguments are **positional**, meaning that the order in which you pass them to a function matters.\n",
        "To see this in practice, let's write a new function that takes two arguments, `x` and `y`, and multiplies them together after minusing one from argument `x` and adding one to argument `y`.\n"
      ],
      "id": "b258c93d"
    },
    {
      "cell_type": "code",
      "metadata": {},
      "source": [
        "function multiply_together_offsets(x, y)\n",
        "    z = (x - 1) * (y + 1)\n",
        "    return z\n",
        "end"
      ],
      "id": "918e1a49",
      "execution_count": null,
      "outputs": []
    },
    {
      "cell_type": "markdown",
      "metadata": {},
      "source": [
        "Because Julia uses positional arguments, the following two function calls will return different values, even though the numbers `5` and `10` are used in both.\n"
      ],
      "id": "fe685d8b"
    },
    {
      "cell_type": "code",
      "metadata": {},
      "source": [
        "multiply_together_offsets(5, 10)"
      ],
      "id": "a167ae69",
      "execution_count": null,
      "outputs": []
    },
    {
      "cell_type": "code",
      "metadata": {},
      "source": [
        "multiply_together_offsets(10, 5)"
      ],
      "id": "63291336",
      "execution_count": null,
      "outputs": []
    },
    {
      "cell_type": "markdown",
      "metadata": {},
      "source": [
        "**Keyword arguments** are arguments that are passed to a function by name.\n",
        "Generally speaking, keyword arguments are used to set default values for arguments that can be changed by the user.\n",
        "Let's modify our `multiply_together_offsets` function to use keyword arguments.\n"
      ],
      "id": "83192417"
    },
    {
      "cell_type": "code",
      "metadata": {},
      "source": [
        "function multiply_together_offsets(x, y; offset_x = 1, offset_y = 1)\n",
        "    z = (x - offset_x) * (y + offset_y)\n",
        "    return z\n",
        "end"
      ],
      "id": "c71c1c69",
      "execution_count": null,
      "outputs": []
    },
    {
      "cell_type": "markdown",
      "metadata": {},
      "source": [
        "We have added two new arguments to the function, `offset_x` and `offset_y`, and given them default values of `1`.\n",
        "\n",
        "::: {.callout-tip}\n",
        "\n",
        "It is not necessary, but it is generally good style to place keyword arguments after all positional arguments, as well as separating them from positional arguments using a semi-colon (`;`), rather than a comma.\n",
        "\n",
        ":::\n",
        "\n",
        "Now, when we call the function, we can specify the values of these arguments by name.\n"
      ],
      "id": "701d43ec"
    },
    {
      "cell_type": "code",
      "metadata": {},
      "source": [
        "multiply_together_offsets(5, 10)"
      ],
      "id": "a81dcba8",
      "execution_count": null,
      "outputs": []
    },
    {
      "cell_type": "code",
      "metadata": {},
      "source": [
        "multiply_together_offsets(5, 10; offset_x = 2, offset_y = 3)"
      ],
      "id": "773a2fcb",
      "execution_count": null,
      "outputs": []
    },
    {
      "cell_type": "markdown",
      "metadata": {},
      "source": [
        "### Scope\n",
        "\n",
        "Scope is a relatively complicated concept, but it is important to understand it in order to write functions that are easy to understand and debug.\n",
        "Scope refers to the visibility of variables within a function.\n",
        "In Julia, variables that are defined within a function are not visible outside of the function.\n",
        "The reverse is not true, however.\n",
        "Variables that are defined outside of a function are visible within the function, but cannot be modified.\n",
        "\n",
        "Let's look at some examples.\n"
      ],
      "id": "6a6a9e4a"
    },
    {
      "cell_type": "code",
      "metadata": {},
      "source": [
        "function add_one(x)\n",
        "    y = x + 1\n",
        "    return y\n",
        "end\n",
        "\n",
        "add_one(5)"
      ],
      "id": "fde3bfd5",
      "execution_count": null,
      "outputs": []
    },
    {
      "cell_type": "code",
      "metadata": {},
      "source": [
        "#| error: true\n",
        "y"
      ],
      "id": "96b5d050",
      "execution_count": null,
      "outputs": []
    },
    {
      "cell_type": "markdown",
      "metadata": {},
      "source": [
        "In this case, `y` is defined within the function `add_one()` i.e. is a **local variable**, and is therefore not visible outside of the function, but it can be used within the function!\n"
      ],
      "id": "16f101db"
    },
    {
      "cell_type": "code",
      "metadata": {},
      "source": [
        "global_x = 5\n",
        "\n",
        "function print_global_x()\n",
        "    return println(global_x)\n",
        "end\n",
        "\n",
        "print_global_x()"
      ],
      "id": "6ae5bf08",
      "execution_count": null,
      "outputs": []
    },
    {
      "cell_type": "markdown",
      "metadata": {},
      "source": [
        "In this example, `global_x` is defined outside of the function `print_global_x()`, and is therefore visible within the function, but it cannot be modified.\n",
        "\n",
        "::: {.callout-warning}\n",
        "\n",
        "It's not good practice to access **global variables** in your functions.\n",
        "Instead, if you want to use a variable in your function, pass it as an argument.\n",
        "\n",
        ":::\n"
      ],
      "id": "97813c49"
    },
    {
      "cell_type": "code",
      "metadata": {},
      "source": [
        "function modify_global_x()\n",
        "    global_x = 10\n",
        "    return global_x\n",
        "end\n",
        "\n",
        "modify_global_x()\n",
        "\n",
        "global_x"
      ],
      "id": "1c0758ef",
      "execution_count": null,
      "outputs": []
    },
    {
      "cell_type": "markdown",
      "metadata": {},
      "source": [
        "Here, we have tried to modify `global_x` within the function `modify_global_x()`, but this has not worked.\n",
        "It looks like it worked when we called the function, but when we check the value of `global_x` outside of the function, it is still `5`.\n",
        "\n",
        "### Multiple Dispatch\n",
        "\n",
        "Multiple dispatch is the idea that the behavior of a function depends on the types of the arguments that are passed to it (as well as the number of arguments).\n",
        "To illustrate this, let's go back to our original example function `multiply_by_two_divide_by_three()`.\n",
        "\n",
        "In the example above, we passed a single argument to the function, and it returned a floating point number.\n",
        "But what if we wanted to pass multiple numbers to the function, and have it return a vector of the results?\n",
        "We could do this by specifying another **method** of the function that accepts a tuple of numbers as an argument.\n"
      ],
      "id": "63b03c84"
    },
    {
      "cell_type": "code",
      "metadata": {},
      "source": [
        "function multiply_by_two_divide_by_three(x::Tuple)\n",
        "    y = zeros(Float64, length(x))\n",
        "    z = similar(y)\n",
        "\n",
        "    for i in eachindex(x)\n",
        "        y[i] = x[i] * 2\n",
        "        z[i] = y[i] / 3\n",
        "    end\n",
        "\n",
        "    return z\n",
        "end"
      ],
      "id": "2ee05640",
      "execution_count": null,
      "outputs": []
    },
    {
      "cell_type": "markdown",
      "metadata": {},
      "source": [
        "We have defined a new method of the function (i.e., a new way of using the function) by specifying the type of the argument `x` as a tuple (`::Tuple`), and this is illustrated in the printout `multiply_by_two_divide_by_three (generic function with 2 methods)`.\n",
        "\n",
        "::: {.callout-note}\n",
        "\n",
        "You don't have to understand exactly what the code is doing here (but have a look at the [for loop](#for-loop) section if you're interested).\n",
        "Neither is the code particularly efficient, but it's a relatively readable way to illustrate the concept of multiple dispatch.\n",
        "\n",
        ":::\n",
        "\n",
        "Now let's test out our new function method\n"
      ],
      "id": "f16738c4"
    },
    {
      "cell_type": "code",
      "metadata": {},
      "source": [
        "multiply_by_two_divide_by_three((1, 2, 3))"
      ],
      "id": "f84dcc3a",
      "execution_count": null,
      "outputs": []
    },
    {
      "cell_type": "markdown",
      "metadata": {},
      "source": [
        "And we can see that the original method that just takes a single number as an argument still works.\n"
      ],
      "id": "8975278d"
    },
    {
      "cell_type": "code",
      "metadata": {},
      "source": [
        "multiply_by_two_divide_by_three(3)"
      ],
      "id": "0682f23a",
      "execution_count": null,
      "outputs": []
    },
    {
      "cell_type": "markdown",
      "metadata": {},
      "source": [
        "::: {.callout-warning}\n",
        "\n",
        "It is important to note that **keyword arguments** are not considered in multiple dispatch i.e., trying to define a new method of a function that differs only by keyword arguments *will not* create a new method, but just overwrite the old one.\n",
        "So if you want/need a new method, use **positional arguments**.\n",
        "\n",
        ":::\n",
        "\n",
        "## Packages\n",
        "\n",
        "Packages are an essential part of the Julia ecosystem.\n",
        "You've already seen an example of a package in action: `{DataFrames}`.\n",
        "At their core, a package is a way for someone to share code, data, and documentation with other people.\n",
        "By design, Julia can't do everything for everyone straight out of the box.\n",
        "Not only would it be an impossible task for the Julia developers to create a language that can do everything, but it would also be incredibly slow to load and run.\n",
        "Instead, packages extend the abilities of Julia by providing additional features (through functions) that are not included in the base language.\n",
        "\n",
        "The `{DataFrames}` package, for example, creates a special data structure that is very easy to read, as well as providing a number of functions that make it easy to manipulate and analyze data.\n",
        "\n",
        "To add a package to your Julia environment (project), you can use the `add` command in the package manager (accessed by pressing `]` in the REPL).\n",
        "Then, you can use the `using` command to load the package into your current Julia session.\n",
        "See [this page](new-project.qmd) for more information in the context of setting up a new project.\n",
        "\n",
        "## Control Flow\n",
        "\n",
        "Control flow refers to the order in which the statements in a program are executed.\n",
        "There are many different ways to control how a program is executed, but we will focus on the most common ones here.\n",
        "See the [Julia documentation](https://docs.julialang.org/en/v1/manual/control-flow/) for more information.\n",
        "\n",
        "### If Statements\n",
        "\n",
        "If statements are a way to control whether or not a block of code is executed, and fall under the general category of **conditional evaluation** (but I think \"if statements\" gives you a more intuitive sense of what we're talking about in this section).\n",
        "There are many uses for conditional evaluation, so we'll just show you some examples of how to use it, and you can explore further if you need to.\n",
        "The following is an example from the [Julia documentation](https://docs.julialang.org/en/v1/manual/control-flow/#man-conditional-evaluation-1).\n"
      ],
      "id": "a00561d3"
    },
    {
      "cell_type": "code",
      "metadata": {},
      "source": [
        "function number_relations(x, y)\n",
        "    if x < y\n",
        "        relation = \"less than\"\n",
        "    elseif x == y\n",
        "        relation = \"equal to\"\n",
        "    else\n",
        "        relation = \"greater than\"\n",
        "    end\n",
        "    return println(\"x is \", relation, \" y.\")\n",
        "end\n",
        "\n",
        "number_relations(2, 1)"
      ],
      "id": "b90e146f",
      "execution_count": null,
      "outputs": []
    },
    {
      "cell_type": "markdown",
      "metadata": {},
      "source": [
        "In this example we are using an `if` statement to determine the relationship between two numbers.\n",
        "It's important to note that the **conditional statements** are evaluated in sequence, and the first one that evaluates to `true` is executed i.e. `if` then `elseif` then `else` in this example.\n",
        "\n",
        "::: {.callout-note}\n",
        "\n",
        "`elseif` and `else` statements are both optional (i.e. just an `if` statement is valid), and you can have as many `elseif` statements as you like (including 0 i.e. just `if` and `else` statements).\n",
        "\n",
        ":::\n",
        "\n",
        "#### Short-Circuit Evaluation\n",
        "\n",
        "If you want to check multiple conditions, you can use the `&&` (and) and `||` (or) operators.\n",
        "These is known as **short-circuit evaluation**.\n",
        "For example, if we wanted to check if a number is between 0 and 10, we could do the following.\n"
      ],
      "id": "dcb09e3c"
    },
    {
      "cell_type": "code",
      "metadata": {},
      "source": [
        "function number_between(x)\n",
        "    if x > 0 && x < 10\n",
        "        println(\"x is between 0 and 10\")\n",
        "    else\n",
        "        println(\"x is not between 0 and 10\")\n",
        "    end\n",
        "end\n",
        "\n",
        "number_between(3)"
      ],
      "id": "90b8f1b5",
      "execution_count": null,
      "outputs": []
    },
    {
      "cell_type": "code",
      "metadata": {},
      "source": [
        "number_between(11)"
      ],
      "id": "fae697eb",
      "execution_count": null,
      "outputs": []
    },
    {
      "cell_type": "markdown",
      "metadata": {},
      "source": [
        "In `number_between(3)`, x is greater than 0 and less than 10, so both conditions evaluate to `true`, and the code in the `if` statement is executed.\n",
        "In `number_between(11)`, x is greater than 0, but not less than 10, so while the first condition evaluates to `true`, the second condition evaluates to `false`, so the code in the `else` statement is executed.\n",
        "This is important to understand - all conditions must evaluate to `true` for the code in the `if` statement to be executed!\n",
        "Based on this, try to think about why the following code also works.\n"
      ],
      "id": "99560ad8"
    },
    {
      "cell_type": "code",
      "metadata": {},
      "source": [
        "function number_between2(x)\n",
        "    if x > 0 && ((x > 10) == false)\n",
        "        println(\"x is between 0 and 10\")\n",
        "    else\n",
        "        println(\"x is not between 0 and 10\")\n",
        "    end\n",
        "end\n",
        "\n",
        "number_between2(3)"
      ],
      "id": "9084b023",
      "execution_count": null,
      "outputs": []
    },
    {
      "cell_type": "markdown",
      "metadata": {},
      "source": [
        "### Iteration\n",
        "\n",
        "Iteration is a useful concept in programming, is a pretty intuitive way to think about many problems we come across in epidemiology (once you get used to it), and is very fast in Julia, so it's worth spending some time to understand it.\n",
        "Do not expect to understand everything about iteration after reading this section, and you will likely need to come back to refer to it as you go through the book, but hopefully it will provide a good starting point for you to explore further.\n",
        "\n",
        "#### For Loop\n",
        "\n",
        "The most common way to iterate in Julia is using a `for` loop.\n",
        "We have already seen a `for` loop in the [multiple dispatch](#multiple-dispatch) section, but let's look at a simpler example.\n",
        "\n",
        "Let's say we want to calculate the sum of the numbers from 1 to 10 (cumulative sum) i.e. 1 + 2 + 3 + ... + 10.\n",
        "Julia has an in-built function to do this (`cumsum()`), but let's write our own function to do it using a `for` loop.\n",
        "\n",
        "There are multiple ways we could write this function, but the most intuitive way is to go through each of the numbers in 1 to 10, and add them to a running total.\n"
      ],
      "id": "df8e434c"
    },
    {
      "cell_type": "code",
      "metadata": {},
      "source": [
        "function mycumsum(x)\n",
        "    y = 0 # Initialize our running total to 0\n",
        "\n",
        "    # For each number in x, add it to our running total\n",
        "    for i in x\n",
        "        y += x[i] # This is equivalent to y = y + x[i]\n",
        "    end\n",
        "\n",
        "    return y\n",
        "end\n",
        "\n",
        "mycumsum(1:10)"
      ],
      "id": "350fc80c",
      "execution_count": null,
      "outputs": []
    },
    {
      "cell_type": "markdown",
      "metadata": {},
      "source": [
        "#### While Loop\n",
        "\n",
        "Another way to iterate is using a `while` loop.\n",
        "The difference between a `for` loop and a `while` loop is that a `for` loop iterates over a sequence of values, whereas a `while` loop iterates until a condition is met.\n",
        "For example, let's say we want to keep adding numbers to our running total until the total is greater than 100 (and stop counting).\n",
        "We might not know how many numbers we need to add to get to 100, so we can't use a `for` loop, but we can use a `while` loop.\n"
      ],
      "id": "d65888b0"
    },
    {
      "cell_type": "code",
      "metadata": {},
      "source": [
        "function mycumsum2(x)\n",
        "    y = 0 # Initialize our running total to 0\n",
        "    i = 1 # Initialize our counter to 1\n",
        "\n",
        "    # While our running total is less than 100, add the next number to our running total\n",
        "    while y < 100\n",
        "        y += x[i] # This is equivalent to y = y + x[i]\n",
        "        i += 1 # Update our counter so we can add the next number\n",
        "    end\n",
        "\n",
        "    return println(\"We added \", i, \" numbers to get to \", y)\n",
        "end\n",
        "\n",
        "mycumsum2(1:100)"
      ],
      "id": "9ef07679",
      "execution_count": null,
      "outputs": []
    },
    {
      "cell_type": "markdown",
      "metadata": {},
      "source": [
        "::: {.callout-caution}\n",
        "\n",
        "`while` loops are very useful in many situations, but are more dangerous than `for` loops, because it's easy to get stuck in an infinite loop.\n",
        "For example, if we accidentally started our cumulative sum between 0:100 and forgot to update our counter, we would never reach our condition of y < 100, and the loop would never end.\n",
        "To avoid this, people often add `break` statements to their `while` loops, which will break out of the loop if a certain condition is met i.e. if we added 100 numbers and still haven't reached 100, we can early exit out of the loop.\n",
        "Generally speaking, use a `for` loop if you can, and be careful when using `while` loops.\n",
        "\n",
        ":::\n",
        "\n",
        "\n",
        "## Additional Resources\n",
        "\n",
        "I'd recommend checking out the following resources to learn more about Julia (roughly in descending order of preference due to complexity and target audience)\n",
        "\n",
        "- [Scientific Computing for the Rest of Us](https://sciencecomputing.io)\n",
        "- [Julia Academy](https://juliaacademy.com)\n",
        "- [Julia Data Science](https://juliadatascience.io)\n",
        "- [Doggo JL](https://www.youtube.com/@doggodotjl)\n",
        "- [Julia Documentation](https://docs.julialang.org/en/v1/)\n",
        "- [Quantitative Economics with Julia](https://julia.quantecon.org/intro.html)\n",
        "- [Think Julia](https://benlauwens.github.io/ThinkJulia.jl/latest/book.html)\n",
        "- [PumasAI Tutorials](https://tutorials.pumas.ai)\n",
        "- [Julia For Economists Video Series](https://www.youtube.com/playlist?list=PLbuwVVKCI3sRW0Y5ehBFwdFVuyuy87ram)\n",
        "- [Advanced Scientific Computing: Producing Better Code](https://www.youtube.com/playlist?list=PL-G47MxHVTewUm5ywggLvmbUCNOD2RbKA)"
      ],
      "id": "391f619f"
    }
  ],
  "metadata": {
    "kernelspec": {
      "name": "julia-1.10-1.10",
      "language": "julia",
      "display_name": "julia-1.10 1.10.0"
    }
  },
  "nbformat": 4,
  "nbformat_minor": 5
}